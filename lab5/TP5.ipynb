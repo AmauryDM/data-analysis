{
 "cells": [
  {
   "cell_type": "code",
   "execution_count": null,
   "metadata": {},
   "outputs": [],
   "source": [
    "import pandas as pd\n",
    "import matplotlib.pyplot as plt\n",
    "import numpy as np\n",
    "import sklearn\n",
    "import scipy.stats as stats\n",
    "import pydotplus\n",
    "import seaborn as sns; sns.set()"
   ]
  },
  {
   "cell_type": "code",
   "execution_count": null,
   "metadata": {},
   "outputs": [],
   "source": [
    "#Exo A1\n",
    "#Question 1\n",
    "train = pd.read_csv('titanic_train.csv')\n",
    "test = pd.read_csv('titanic_test.csv')"
   ]
  },
  {
   "cell_type": "code",
   "execution_count": null,
   "metadata": {},
   "outputs": [],
   "source": [
    "train.head()"
   ]
  },
  {
   "cell_type": "code",
   "execution_count": null,
   "metadata": {},
   "outputs": [],
   "source": [
    "train.Age.isnull()"
   ]
  },
  {
   "cell_type": "code",
   "execution_count": null,
   "metadata": {},
   "outputs": [],
   "source": [
    "train.sum()"
   ]
  },
  {
   "cell_type": "code",
   "execution_count": null,
   "metadata": {},
   "outputs": [],
   "source": [
    "train_headers = train.columns.tolist()\n",
    "for i in range(len(train_headers)):\n",
    "    x = train_headers[i]\n",
    "    y = pd.isnull(train[x]).value_counts()\n",
    "    print(y)\n",
    "    print('type', np.dtype(train[x]))\n",
    "    print()"
   ]
  },
  {
   "cell_type": "code",
   "execution_count": null,
   "metadata": {},
   "outputs": [],
   "source": [
    "age_drop = train.dropna(subset=['Age'])"
   ]
  },
  {
   "cell_type": "code",
   "execution_count": null,
   "metadata": {},
   "outputs": [],
   "source": [
    "#Question 2\n",
    "plt.title(\"Histogramme de l'âge des passagers\")\n",
    "plt.xlabel(\"Âge\")\n",
    "plt.ylabel(\"Nombre de passagers\")\n",
    "plt.hist(age_drop.Age, edgecolor=\"black\")"
   ]
  },
  {
   "cell_type": "code",
   "execution_count": null,
   "metadata": {},
   "outputs": [],
   "source": [
    "(train.shape[0]-train.Survived.sum())*100/train.shape[0]"
   ]
  },
  {
   "cell_type": "code",
   "execution_count": null,
   "metadata": {},
   "outputs": [],
   "source": [
    "train.Pclass.value_counts()"
   ]
  },
  {
   "cell_type": "code",
   "execution_count": null,
   "metadata": {},
   "outputs": [],
   "source": [
    "plt.title(\"Diagramme en camembert pour les classes\")\n",
    "plt.pie(train.Pclass.value_counts(), labels=['3ème', '1ère', '2nde'], autopct='%1.1f%%')"
   ]
  },
  {
   "cell_type": "code",
   "execution_count": null,
   "metadata": {},
   "outputs": [],
   "source": [
    "train.Survived[train.Sex==\"male\"].value_counts()"
   ]
  },
  {
   "cell_type": "code",
   "execution_count": null,
   "metadata": {},
   "outputs": [],
   "source": [
    "train.Survived[train.Sex==\"female\"].value_counts()"
   ]
  },
  {
   "cell_type": "code",
   "execution_count": null,
   "metadata": {},
   "outputs": [],
   "source": [
    "train.Survived.value_counts()"
   ]
  },
  {
   "cell_type": "code",
   "execution_count": null,
   "metadata": {},
   "outputs": [],
   "source": [
    "train.Sex.value_counts()[1]*100/(train.Sex.value_counts()[0]+train.Sex.value_counts()[1])"
   ]
  },
  {
   "cell_type": "code",
   "execution_count": null,
   "metadata": {},
   "outputs": [],
   "source": [
    "train.Survived[train.Sex==\"female\"].value_counts()[1]*100/(train.Survived[train.Sex==\"female\"].value_counts()[0]+train.Survived[train.Sex==\"female\"].value_counts()[1])"
   ]
  },
  {
   "cell_type": "code",
   "execution_count": null,
   "metadata": {},
   "outputs": [],
   "source": [
    "age_drop.Survived[age_drop.Age>=18].value_counts()"
   ]
  },
  {
   "cell_type": "code",
   "execution_count": null,
   "metadata": {},
   "outputs": [],
   "source": [
    "age_drop.Survived[age_drop.Age>=18].value_counts()[1]*100/(age_drop.Survived[age_drop.Age>=18].value_counts()[0]+age_drop.Survived[age_drop.Age>=18].value_counts()[1])"
   ]
  },
  {
   "cell_type": "code",
   "execution_count": null,
   "metadata": {},
   "outputs": [],
   "source": [
    "age_drop.Survived[age_drop.Age>=18][age_drop.Sex==\"male\"].value_counts()"
   ]
  },
  {
   "cell_type": "code",
   "execution_count": null,
   "metadata": {},
   "outputs": [],
   "source": [
    "train.Survived[train.Pclass==3].value_counts()"
   ]
  },
  {
   "cell_type": "code",
   "execution_count": null,
   "metadata": {},
   "outputs": [],
   "source": [
    "sns.heatmap(train.corr(), annot=True, linewidth=2)"
   ]
  },
  {
   "cell_type": "code",
   "execution_count": null,
   "metadata": {},
   "outputs": [],
   "source": [
    "#Question 5\n",
    "newfare = train.Fare.copy()\n",
    "tempfare = train.Fare.copy()\n",
    "for i in range(582):\n",
    "    if tempfare[i]<10:\n",
    "        newfare[i]=1\n",
    "    if tempfare[i]<20 and tempfare[i]>=10:\n",
    "        newfare[i]=2\n",
    "    if tempfare[i]<30 and tempfare[i]>=20:\n",
    "        newfare[i]=3\n",
    "    if tempfare[i]>=30:\n",
    "        newfare[i]=4\n",
    "train.insert(13, \"Fare2\", newfare)\n",
    "print(train)\n",
    "sns.heatmap(train.corr(), annot=True, linewidth=1)"
   ]
  },
  {
   "cell_type": "code",
   "execution_count": null,
   "metadata": {},
   "outputs": [],
   "source": [
    "newfare = test.Fare.copy()\n",
    "tempfare = test.Fare.copy()\n",
    "for i in range(309):\n",
    "    if tempfare[i]<10:\n",
    "        newfare[i]=1\n",
    "    if tempfare[i]<20 and tempfare[i]>=10:\n",
    "        newfare[i]=2\n",
    "    if tempfare[i]<30 and tempfare[i]>=20:\n",
    "        newfare[i]=3\n",
    "    if tempfare[i]>=30:\n",
    "        newfare[i]=4\n",
    "test.insert(13, \"Fare2\", newfare)\n",
    "print(train)\n",
    "sns.heatmap(test.corr(), annot=True, linewidth=1,)"
   ]
  },
  {
   "cell_type": "code",
   "execution_count": null,
   "metadata": {},
   "outputs": [],
   "source": [
    "train.Survived[train.Fare2==3].value_counts()"
   ]
  },
  {
   "cell_type": "code",
   "execution_count": null,
   "metadata": {},
   "outputs": [],
   "source": [
    "print(stats.chi2_contingency(pd.crosstab(train.Fare2, train.Pclass)))"
   ]
  },
  {
   "cell_type": "code",
   "execution_count": null,
   "metadata": {},
   "outputs": [],
   "source": [
    "#Exo A2\n",
    "#Question 1\n",
    "newage = train.Age.copy()\n",
    "tempage = train.Age.copy()\n",
    "newsex = train.Sex.copy()\n",
    "tempsex = train.Sex.copy()\n",
    "\n",
    "for i in range(582):\n",
    "    if tempage[i]<18:\n",
    "        newage[i]=1\n",
    "    if tempage[i]>=18:\n",
    "        newage[i]=0\n",
    "    if tempsex[i].__eq__('female'):\n",
    "        newsex[i]=0\n",
    "    if tempsex[i].__eq__('male'):\n",
    "        newsex[i]=1\n",
    "train.insert(14, \"Child\", newage)\n",
    "train.insert(15, \"Sex_cat\", newsex)\n",
    "\n",
    "age_drop = train.dropna(subset=['Age'])\n",
    "\n",
    "newage = test.Age.copy()\n",
    "tempage = test.Age.copy()\n",
    "newsex = test.Sex.copy()\n",
    "tempsex = test.Sex.copy()\n",
    "\n",
    "for i in range(309):\n",
    "    if tempage[i]<18:\n",
    "        newage[i]=1\n",
    "    if tempage[i]>=18:\n",
    "        newage[i]=0\n",
    "    if tempsex[i].__eq__('female'):\n",
    "        newsex[i]=0\n",
    "    if tempsex[i].__eq__('male'):\n",
    "        newsex[i]=1\n",
    "test.insert(14, \"Child\", newage)\n",
    "test.insert(15, \"Sex_cat\", newsex)\n",
    "\n",
    "age_drop_test = test.dropna(subset=['Age'])"
   ]
  },
  {
   "cell_type": "code",
   "execution_count": null,
   "metadata": {},
   "outputs": [],
   "source": [
    "#Question 2\n",
    "from sklearn import metrics\n",
    "from sklearn.naive_bayes import GaussianNB\n",
    "\n",
    "gnbModel= GaussianNB()\n",
    "\n",
    "gnbModel.fit(age_drop[['Child', 'Sex_cat']], age_drop['Fare2'])\n",
    "\n",
    "expected = age_drop['Fare2']\n",
    "\n",
    "predicted = gnbModel.predict(age_drop[['Child', 'Sex_cat']])\n",
    "print(metrics.classification_report(expected, predicted))\n",
    "\n",
    "expected = age_drop_test['Fare2']\n",
    "predicted = gnbModel.predict(age_drop_test[['Child', 'Sex_cat']])\n",
    "print(metrics.classification_report(expected, predicted))"
   ]
  },
  {
   "cell_type": "code",
   "execution_count": null,
   "metadata": {},
   "outputs": [],
   "source": [
    "#Exo A3\n",
    "import pydotplus\n",
    "import collections\n",
    "from IPython.display import Image\n",
    "from sklearn.tree import export_graphviz\n",
    "from sklearn import tree\n",
    "\n",
    "clf = tree.DecisionTreeClassifier()\n",
    "clf = clf.fit(age_drop[['Child', 'Sex_cat']],\n",
    "              age_drop['Survived'])\n",
    "\n",
    "dot_data = tree.export_graphviz(clf, out_file=None,\n",
    "                                feature_names=['Child', 'Sex_cat'],\n",
    "                                class_names=[\"DCeased\", \"Alive\"],\n",
    "                                filled=True,\n",
    "                                rounded=True)\n",
    "graph = pydotplus.graph_from_dot_data(dot_data)\n",
    "Image(graph.create_png())\n",
    "Image(graph.write_png('./filename.png'))"
   ]
  },
  {
   "cell_type": "code",
   "execution_count": null,
   "metadata": {},
   "outputs": [],
   "source": []
  }
 ],
 "metadata": {
  "kernelspec": {
   "display_name": "Python 3",
   "language": "python",
   "name": "python3"
  },
  "language_info": {
   "codemirror_mode": {
    "name": "ipython",
    "version": 3
   },
   "file_extension": ".py",
   "mimetype": "text/x-python",
   "name": "python",
   "nbconvert_exporter": "python",
   "pygments_lexer": "ipython3",
   "version": "3.8.5"
  }
 },
 "nbformat": 4,
 "nbformat_minor": 4
}
