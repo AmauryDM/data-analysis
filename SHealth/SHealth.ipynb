{
 "cells": [
  {
   "cell_type": "code",
   "execution_count": null,
   "metadata": {},
   "outputs": [],
   "source": [
    "import numpy as np\n",
    "import pandas as pd\n",
    "import seaborn as sns\n",
    "import scipy.stats as sc\n",
    "from operator import mul\n",
    "import statistics as stats\n",
    "import math\n",
    "\n",
    "import matplotlib.pyplot as plt\n",
    "import matplotlib.patches as mpatches\n",
    "\n",
    "import statsmodels.api as sm\n",
    "from statsmodels.tsa.arima_model import ARIMA\n",
    "from statsmodels.graphics.tsaplots import plot_acf, plot_pacf\n",
    "from statsmodels.tsa.stattools import adfuller, kpss\n",
    "from statsmodels.stats.diagnostic import acorr_ljungbox\n",
    "\n",
    "from sklearn import metrics\n",
    "from sklearn.cluster import KMeans\n",
    "from sklearn.metrics import confusion_matrix, silhouette_score\n",
    "from sklearn.preprocessing import StandardScaler\n",
    "from sklearn.decomposition import PCA\n",
    "from sklearn.manifold import TSNE, MDS, Isomap, LocallyLinearEmbedding"
   ]
  },
  {
   "cell_type": "code",
   "execution_count": null,
   "metadata": {},
   "outputs": [],
   "source": [
    "#Changement des virgules en points pour obtenir des valeurs numériques\n",
    "text = open(\"shealth.csv\", 'r')\n",
    "text = ''.join([i for i in text]).replace(',', '.')\n",
    "x = open(\"output.csv\",'w')\n",
    "x.writelines(text)\n",
    "x.close()"
   ]
  },
  {
   "cell_type": "code",
   "execution_count": null,
   "metadata": {},
   "outputs": [],
   "source": [
    "shealth = pd.read_csv(\"output.csv\", sep=';')"
   ]
  },
  {
   "cell_type": "code",
   "execution_count": null,
   "metadata": {},
   "outputs": [],
   "source": [
    "#Modification des temps de style 8h en 8h00\n",
    "for k in range(608):\n",
    "    if type(shealth['sleep time'][k]) == type('hello'):\n",
    "        hdata = shealth['sleep time'][k].split('h')\n",
    "        if hdata[1] == '':\n",
    "            hdata[1] = '00'\n",
    "            shealth['sleep time'][k] = 'h'.join(hdata)"
   ]
  },
  {
   "cell_type": "code",
   "execution_count": null,
   "metadata": {},
   "outputs": [],
   "source": [
    "#Copie du jeu de données pour remplacer les valeurs de temps de sommeil\n",
    "shealth_modif = shealth.copy(deep=True)\n",
    "shealth_modif['sleep time'] = shealth_modif['sleep time'].replace(np.nan, 'nan', regex=True)"
   ]
  },
  {
   "cell_type": "code",
   "execution_count": null,
   "metadata": {},
   "outputs": [],
   "source": [
    "#Modification de l'heure en minute en valeur numérique\n",
    "factors = (60, 1)\n",
    "for k in range(608):\n",
    "    sleep_min = 0\n",
    "    if shealth_modif['sleep time'][k] != 'nan':\n",
    "        sleep_min = sum(i*j for i, j in zip(map(int, shealth['sleep time'][k].split('h')), factors))\n",
    "        shealth_modif['sleep time'] = shealth_modif['sleep time'].replace(shealth_modif['sleep time'][k], sleep_min)"
   ]
  },
  {
   "cell_type": "code",
   "execution_count": null,
   "metadata": {},
   "outputs": [],
   "source": [
    "shealth_modif['sleep time'] = shealth_modif['sleep time'].replace('nan', np.nan, regex=True)"
   ]
  },
  {
   "cell_type": "code",
   "execution_count": null,
   "metadata": {},
   "outputs": [],
   "source": [
    "plt.plot(shealth_modif['Date'], shealth_modif['Weigth'])\n",
    "plt.xlabel('Date')\n",
    "plt.ylabel('Poids')\n",
    "plt.title('Poids en fonction de la date')"
   ]
  },
  {
   "cell_type": "code",
   "execution_count": null,
   "metadata": {},
   "outputs": [],
   "source": [
    "plt.plot(shealth_modif['Date'], shealth_modif['Steps'])\n",
    "plt.xlabel('Date')\n",
    "plt.ylabel('Nombre de pas')\n",
    "plt.title('Nombre de pas en fonction de la date')"
   ]
  },
  {
   "cell_type": "code",
   "execution_count": null,
   "metadata": {},
   "outputs": [],
   "source": [
    "plt.plot(shealth_modif['Date'], shealth_modif['Walk (min)'])\n",
    "plt.xlabel('Date')\n",
    "plt.ylabel('Temps de marche')\n",
    "plt.title('Temps de marche en fonction de la date')"
   ]
  },
  {
   "cell_type": "code",
   "execution_count": null,
   "metadata": {},
   "outputs": [],
   "source": [
    "plt.plot(shealth_modif['Date'], shealth_modif['Sport (min)'])\n",
    "plt.xlabel('Date')\n",
    "plt.ylabel('Temps de sport')\n",
    "plt.title('Temps de sport en fonction de la date')"
   ]
  },
  {
   "cell_type": "code",
   "execution_count": null,
   "metadata": {},
   "outputs": [],
   "source": [
    "plt.plot(shealth_modif['Date'], shealth_modif['Spent kcal'])\n",
    "plt.xlabel('Date')\n",
    "plt.ylabel('kcal dépensées')\n",
    "plt.title('kcal dépensées en fonction de la date')"
   ]
  },
  {
   "cell_type": "code",
   "execution_count": null,
   "metadata": {},
   "outputs": [],
   "source": [
    "plt.plot(shealth_modif['Date'], shealth_modif['sleep time'])\n",
    "plt.xlabel('Date')\n",
    "plt.ylabel('Temps de sommeil')\n",
    "plt.title('Temps de sommeil en fonction de la date')"
   ]
  },
  {
   "cell_type": "code",
   "execution_count": null,
   "metadata": {},
   "outputs": [],
   "source": [
    "plt.plot(shealth_modif['Date'], shealth_modif['GPS country'])\n",
    "plt.xlabel('Date')\n",
    "plt.ylabel('GPS du pays')\n",
    "plt.title('GPS du pays en fonction de la date')"
   ]
  },
  {
   "cell_type": "code",
   "execution_count": null,
   "metadata": {},
   "outputs": [],
   "source": [
    "print(shealth_modif.corr())"
   ]
  },
  {
   "cell_type": "code",
   "execution_count": null,
   "metadata": {},
   "outputs": [],
   "source": [
    "sns.pairplot(shealth_modif)"
   ]
  },
  {
   "cell_type": "code",
   "execution_count": null,
   "metadata": {},
   "outputs": [],
   "source": [
    "sns.heatmap(shealth_modif.corr(), annot=True)"
   ]
  },
  {
   "cell_type": "code",
   "execution_count": null,
   "metadata": {},
   "outputs": [],
   "source": [
    "print(\"Intervalle de confiance Spent kcal - Walk (min)\")\n",
    "Z = (np.log(1+shealth_modif[\"Spent kcal\"].corr(shealth_modif[\"Walk (min)\"]))-np.log(1-shealth_modif[\"Spent kcal\"].corr(shealth_modif[\"Walk (min)\"])))/2\n",
    "s=np.sqrt(1/(147))\n",
    "Zinf=Z-1.96*s\n",
    "Zsup=Z+1.96*s\n",
    "print('[', ((np.exp(2*Zinf))-1)/((np.exp(2*Zinf))+1), ' ; ', ((np.exp(2*Zsup))-1)/((np.exp(2*Zsup))+1), \"]\")"
   ]
  },
  {
   "cell_type": "code",
   "execution_count": null,
   "metadata": {},
   "outputs": [],
   "source": [
    "sc.chi2_contingency(pd.crosstab(shealth_modif[\"Spent kcal\"], shealth_modif[\"Walk (min)\"]))"
   ]
  },
  {
   "cell_type": "code",
   "execution_count": null,
   "metadata": {},
   "outputs": [],
   "source": [
    "for i in range(10):\n",
    "    shealth_modif['Sport (min)'] = shealth_modif['Sport (min)'].replace(i, np.nan, regex=True)"
   ]
  },
  {
   "cell_type": "code",
   "execution_count": null,
   "metadata": {},
   "outputs": [],
   "source": [
    "plt.scatter(shealth_modif['Sport (min)'], shealth_modif['Weigth'])\n",
    "plt.xlabel('Temps de sport')\n",
    "plt.ylabel('Poids')\n",
    "plt.title('Poids en fonction du temps de sport')"
   ]
  },
  {
   "cell_type": "code",
   "execution_count": null,
   "metadata": {},
   "outputs": [],
   "source": [
    "diff_weigth = np.array([])\n",
    "for i in range(608):\n",
    "    diff = shealth_modif['Weigth'][i+1] - shealth_modif['Weigth'][i]\n",
    "    diff_weigth = np.append(diff_weigth, diff)"
   ]
  },
  {
   "cell_type": "code",
   "execution_count": null,
   "metadata": {},
   "outputs": [],
   "source": [
    "#plt.plot(shealth_modif['Date'][:608][::12], diff_weigth[::12])\n",
    "plt.plot(shealth_modif['Date'][:608], diff_weigth)\n",
    "plt.xlabel('Date')\n",
    "plt.ylabel('Différence du poids')\n",
    "plt.title('Différence du poids en fonction de la date')"
   ]
  },
  {
   "cell_type": "code",
   "execution_count": null,
   "metadata": {},
   "outputs": [],
   "source": [
    "plt.scatter(shealth_modif['Sport (min)'][:608], diff_weigth)\n",
    "plt.xlabel('Temps de sport')\n",
    "plt.ylabel('Différence du poids')\n",
    "plt.title('Différence du poids en fonction du temps de sport')"
   ]
  },
  {
   "cell_type": "code",
   "execution_count": null,
   "metadata": {},
   "outputs": [],
   "source": [
    "mean_weigth = np.array([])\n",
    "for i in range(212, 577, 7):\n",
    "    mean = diff_weigth[i:i+7].sum()/7\n",
    "    mean_weigth = np.append(mean_weigth, mean)"
   ]
  },
  {
   "cell_type": "code",
   "execution_count": null,
   "metadata": {},
   "outputs": [],
   "source": [
    "mean_walk = np.array([])\n",
    "for i in range(212, 577, 7):\n",
    "    mean = shealth_modif['Walk (min)'][i:i+7].sum()/7\n",
    "    mean_walk = np.append(mean_walk, mean)"
   ]
  },
  {
   "cell_type": "code",
   "execution_count": null,
   "metadata": {},
   "outputs": [],
   "source": [
    "plt.plot(shealth_modif['Date'][212:570][::7], mean_weigth[:-1])\n",
    "plt.xlabel('Date')\n",
    "plt.ylabel('Moyenne du poids sur une semaine')\n",
    "plt.title('Moyenne du poids en fonction de la date pour l\\'année complète 2016')"
   ]
  },
  {
   "cell_type": "code",
   "execution_count": null,
   "metadata": {},
   "outputs": [],
   "source": [
    "sum_steps = np.array([])\n",
    "for i in range(7):\n",
    "    sum_val = 0\n",
    "    for j in range(0, 608, 7):\n",
    "        if not np.isnan(shealth_modif['Steps'][i+j]):\n",
    "            sum_val += shealth_modif['Steps'][i+j]\n",
    "    sum_steps = np.append(sum_steps, sum_val)"
   ]
  },
  {
   "cell_type": "code",
   "execution_count": null,
   "metadata": {},
   "outputs": [],
   "source": [
    "steps_order = np.delete(sum_steps, [5, 6])\n",
    "steps_order = np.insert(steps_order, 0, sum_steps[5])\n",
    "steps_order = np.insert(steps_order, 1, sum_steps[6])"
   ]
  },
  {
   "cell_type": "code",
   "execution_count": null,
   "metadata": {},
   "outputs": [],
   "source": [
    "plt.bar(['Lundi', 'Mardi', 'Mercredi', 'Jeudi', 'Vendredi', 'Samedi', 'Dimanche'], steps_order)\n",
    "plt.xlabel('Jour')\n",
    "plt.ylabel('Total de pas')\n",
    "plt.title('Total de pas sur la période en fonction du jour')"
   ]
  },
  {
   "cell_type": "code",
   "execution_count": null,
   "metadata": {},
   "outputs": [],
   "source": [
    "sum_sport = np.array([])\n",
    "for i in range(7):\n",
    "    sum_val = 0\n",
    "    for j in range(0, 608, 7):\n",
    "        if not np.isnan(shealth_modif['Sport (min)'][i+j]):\n",
    "            sum_val += shealth_modif['Sport (min)'][i+j]\n",
    "    sum_sport = np.append(sum_sport, sum_val)"
   ]
  },
  {
   "cell_type": "code",
   "execution_count": null,
   "metadata": {},
   "outputs": [],
   "source": [
    "sport_order = np.delete(sum_sport, [5, 6])\n",
    "sport_order = np.insert(sport_order, 0, sum_sport[5])\n",
    "sport_order = np.insert(sport_order, 1, sum_sport[6])"
   ]
  },
  {
   "cell_type": "code",
   "execution_count": null,
   "metadata": {},
   "outputs": [],
   "source": [
    "plt.bar(['Lundi', 'Mardi', 'Mercredi', 'Jeudi', 'Vendredi', 'Samedi', 'Dimanche'], sport_order)\n",
    "plt.xlabel('Jour')\n",
    "plt.ylabel('Total de temps de sport')\n",
    "plt.title('Total de temps de sport sur la période en fonction du jour')"
   ]
  },
  {
   "cell_type": "code",
   "execution_count": null,
   "metadata": {},
   "outputs": [],
   "source": [
    "sum_walk = np.array([])\n",
    "for i in range(7):\n",
    "    sum_val = 0\n",
    "    for j in range(0, 608, 7):\n",
    "        if not np.isnan(shealth_modif['Walk (min)'][i+j]):\n",
    "            sum_val += shealth_modif['Walk (min)'][i+j]\n",
    "    sum_walk = np.append(sum_walk, sum_val)"
   ]
  },
  {
   "cell_type": "code",
   "execution_count": null,
   "metadata": {},
   "outputs": [],
   "source": [
    "walk_order = np.delete(sum_walk, [5, 6])\n",
    "walk_order = np.insert(walk_order, 0, sum_walk[5])\n",
    "walk_order = np.insert(walk_order, 1, sum_walk[6])"
   ]
  },
  {
   "cell_type": "code",
   "execution_count": null,
   "metadata": {},
   "outputs": [],
   "source": [
    "plt.bar(['Lundi', 'Mardi', 'Mercredi', 'Jeudi', 'Vendredi', 'Samedi', 'Dimanche'], walk_order)\n",
    "plt.xlabel('Jour')\n",
    "plt.ylabel('Total de temps de marche')\n",
    "plt.title('Total de temps de marche sur la période en fonction du jour')"
   ]
  },
  {
   "cell_type": "code",
   "execution_count": null,
   "metadata": {},
   "outputs": [],
   "source": [
    "#Création et différenciation de Weight avec ajout de colonne loss\n",
    "def diff_weight(weight_list): \n",
    "    loss = [] #0 si perte de poids et 1 sinon\n",
    "    diff_weight=[]\n",
    "    ex_loss = []\n",
    "    ex_diff_weight = []\n",
    "    for i in range(weight_list.size):\n",
    "        loss.append(0) #Dernier élément qui vaut 0\n",
    "        diff_weight.append(None)\n",
    "    for i in range(0,weight_list.size-1):\n",
    "        if (weight_list[i] and weight_list[i+1]):\n",
    "            diff_weight[i] = (weight_list[i+1]-weight_list[i])\n",
    "            if not diff_weight[i]==None:\n",
    "                if diff_weight[i] >= 0:\n",
    "                    loss[i] = 1\n",
    "                else:\n",
    "                    loss[i] = 0\n",
    "    for j in range(len(diff_weight)):\n",
    "        if not diff_weight[j] == None and not np.isnan(diff_weight[j]):\n",
    "            if not loss[j] == None:\n",
    "                ex_loss.append(loss[j])\n",
    "                ex_diff_weight.append(diff_weight[j])\n",
    "\n",
    "    df['diff_weight']=diff_weight\n",
    "    df['loss']=loss\n",
    "    return(ex_loss)"
   ]
  },
  {
   "cell_type": "code",
   "execution_count": null,
   "metadata": {},
   "outputs": [],
   "source": [
    "#Génération à chaque fois d'un array résumant chaque semaine:\n",
    "    #poids: diff\n",
    "    #steps, kcal, sport: addition de tout sur 7 jours\n",
    "def diff_arrays(data):\n",
    "    #initializing\n",
    "    extracted_date = []\n",
    "    extracted_data =[]\n",
    "    data_list=df[data]\n",
    "    day_list=df['Date']\n",
    "    weeks_data = []\n",
    "    weeks_date = []\n",
    "    weeks_data.insert(0,None)\n",
    "    weeks_date.insert(0,None)\n",
    "    #creating full length arrays\n",
    "    for i in range(1,data_list.size):\n",
    "        if i%7 ==0 and data == 'Weigth':\n",
    "            weeks_date.append(day_list[i])\n",
    "            weeks_data.append(data_list[i-7]-data_list[i])\n",
    "        elif (i%7 ==0 and not data == 'Weigth'):\n",
    "            weeks_date.append(day_list[i])\n",
    "            weeks_data.append(data_list[i-7]+data_list[i-6]+data_list[i-5]+data_list[i-4]+data_list[i-3]+data_list[i-2]+data_list[i-1]+data_list[i])\n",
    "        else:\n",
    "            weeks_date.append(None)\n",
    "            weeks_data.append(None)\n",
    "    #xtracting non None values\n",
    "    for j in range(len(weeks_data)):\n",
    "        if not weeks_data[j] == None:\n",
    "            if not weeks_date[j] == None:\n",
    "                extracted_data.append(weeks_data[j])\n",
    "                extracted_date.append(weeks_date[j])\n",
    "    return(extracted_data)"
   ]
  },
  {
   "cell_type": "code",
   "execution_count": null,
   "metadata": {},
   "outputs": [],
   "source": [
    "#plot hists avec courbe tendance\n",
    "def plot_hist(data_list):\n",
    "    for item in data_list:\n",
    "        plt.figure()\n",
    "        data=item\n",
    "        sns.distplot(diff_arrays(data))\n",
    "        plt.title(data)\n",
    "        plt.plot()"
   ]
  },
  {
   "cell_type": "code",
   "execution_count": null,
   "metadata": {},
   "outputs": [],
   "source": [
    "#Couleur en fonction de prise/perte\n",
    "def define_color1(i):\n",
    "    if df.loss[i] == 1:\n",
    "        return 'firebrick'\n",
    "    if df.loss[i] == 0:\n",
    "        return 'pink'"
   ]
  },
  {
   "cell_type": "code",
   "execution_count": null,
   "metadata": {},
   "outputs": [],
   "source": [
    "#Couleur en fonction du jour de la semaine\n",
    "def define_color(i):\n",
    "    \n",
    "    if df.Day[i] == 'M':\n",
    "        return 'firebrick'\n",
    "    if df.Day[i] == 'Tu':\n",
    "        return 'blue'\n",
    "    if df.Day[i] == 'W':\n",
    "        return 'green'\n",
    "    if df.Day[i] == 'Th':\n",
    "        return 'tomato'\n",
    "    if df.Day[i] == 'F':\n",
    "        return 'yellow'\n",
    "    if df.Day[i] == 'Sa':\n",
    "        return 'grey'\n",
    "    if df.Day[i] == 'Su':\n",
    "        return 'black'"
   ]
  },
  {
   "cell_type": "code",
   "execution_count": null,
   "metadata": {},
   "outputs": [],
   "source": [
    "#Clustering pca\n",
    "def proj_pca():\n",
    "    iris_data = scaler.fit_transform(df[liste_attributs_])\n",
    "    iris_data = pd.DataFrame(iris_data)\n",
    "    pca = PCA(n_components=2)\n",
    "    data_proj = pca.fit_transform(iris_data)\n",
    "    print('Pourcentage de variance expliquée', pca.explained_variance_ratio_)\n",
    "    print(data_proj[0, 0])\n",
    "    for i in range(len(df['loss'])): \n",
    "        plt.scatter(data_proj[i][0], data_proj[i][1], color=define_color1(i))\n",
    "    perte = mpatches.Patch(color='firebrick', label='prise')\n",
    "    prise = mpatches.Patch(color='pink', label='perte')\n",
    "    plt.legend(handles=[perte, prise])\n",
    "    plt.title('Représentation du dataset')  \n",
    "    plt.show()"
   ]
  },
  {
   "cell_type": "code",
   "execution_count": null,
   "metadata": {},
   "outputs": [],
   "source": [
    "def proj_lle():\n",
    "    data = scaler.fit_transform(df[liste_attributs_])\n",
    "\n",
    "    #LLE\n",
    "    data_proj_LLE3 = LocallyLinearEmbedding(n_neighbors=3).fit_transform(data)\n",
    "    data_proj_LLE5 = LocallyLinearEmbedding(n_neighbors=5).fit_transform(data)\n",
    "    data_proj_LLE8 = LocallyLinearEmbedding(n_neighbors=8).fit_transform(data)\n",
    "    data_proj_LLE10 = LocallyLinearEmbedding(n_neighbors=10).fit_transform(data)\n",
    "    data_proj_LLE12 =  LocallyLinearEmbedding(n_neighbors=12).fit_transform(data)\n",
    "    data_proj_LLE15 = LocallyLinearEmbedding(n_neighbors=15).fit_transform(data)\n",
    "    \n",
    "    \n",
    "    fig2, axs = plt.subplots(2, 3)\n",
    "    fig2.tight_layout()\n",
    "    \n",
    "    for i in range(72):\n",
    "        axs[0][0].scatter(data_proj_LLE3[i][0], data_proj_LLE3[i][1], color=define_color(i))\n",
    "        axs[0][0].set_title('Voisins : 3')\n",
    "        axs[1][0].scatter(data_proj_LLE5[i][0], data_proj_LLE5[i][1], color=define_color(i))\n",
    "        axs[1][0].set_title('Voisins : 5')\n",
    "        axs[0][1].scatter(data_proj_LLE8[i][0], data_proj_LLE8[i][1], color=define_color(i))\n",
    "        axs[0][1].set_title('Voisins : 8')\n",
    "        axs[1][1].scatter(data_proj_LLE10[i][0], data_proj_LLE10[i][1], color=define_color(i))\n",
    "        axs[1][1].set_title('Voisins : 10')\n",
    "        axs[0][2].scatter(data_proj_LLE12[i][0], data_proj_LLE12[i][1], color=define_color(i))\n",
    "        axs[0][2].set_title('Voisins : 12')\n",
    "        axs[1][2].scatter(data_proj_LLE15[i][0], data_proj_LLE15[i][1], color=define_color(i))\n",
    "        axs[1][2].set_title('Voisins : 15')\n",
    "    plt.show()"
   ]
  },
  {
   "cell_type": "code",
   "execution_count": null,
   "metadata": {},
   "outputs": [],
   "source": [
    "df = pd.read_csv('output.csv',sep=\";\")\n",
    "df = df[df.Weigth.notnull()] #supp les lignes sans weight\n",
    "df = df[df.Steps.notnull()] #supp les lignes sans steps\n",
    "df = df.reset_index(drop=True)"
   ]
  },
  {
   "cell_type": "code",
   "execution_count": null,
   "metadata": {},
   "outputs": [],
   "source": [
    "df = shealth_modif.copy(deep=True)\n",
    "df = df[df['Steps'].notnull()] #supp les lignes sans steps\n",
    "df = df.reset_index(drop=True)\n",
    "plt.figure()\n",
    "sns.distplot(df['Steps'])\n",
    "plt.title('Steps')\n",
    "plt.plot()"
   ]
  },
  {
   "cell_type": "code",
   "execution_count": null,
   "metadata": {},
   "outputs": [],
   "source": [
    "plot_hist(['Steps', 'Weigth', 'Walk (min)', 'Sport (min)', 'Spent kcal'])   \n",
    "diff_weight(df['Weigth'])\n",
    "liste_attributs_=[ 'Steps', 'Walk (min)', 'Sport (min)', 'Spent kcal', 'sleep time', 'GPS country'] \n",
    "liste_attributs_=['Steps', 'Spent kcal', 'Walk (min)', 'Sport (min)'] \n",
    "scaler = StandardScaler()\n",
    "plt.figure()\n",
    "proj_pca()  \n",
    "proj_lle()"
   ]
  },
  {
   "cell_type": "code",
   "execution_count": null,
   "metadata": {},
   "outputs": [],
   "source": [
    "def display_circles(labs):\n",
    "    data = scaler.fit_transform(df[labs])\n",
    "    data = pd.DataFrame(data)\n",
    "    pca = PCA(n_components=2)\n",
    "    proj = pca.fit_transform(data)\n",
    "    pcs = pca.components_\n",
    "    n_comp = 2\n",
    "    axis_ranks = [(0, 1), (2, 3), (4, 5)]\n",
    "    labels=np.array(labs)\n",
    "    label_rotation=0\n",
    "    lims=None\n",
    "    for d1, d2 in axis_ranks:  # On affiche les 3 premiers plans factoriels, donc les 6 premières composantes\n",
    "        if d2 < n_comp:\n",
    "\n",
    "            # On initialise la figure\n",
    "            fig, ax = plt.subplots(figsize=(7, 6))\n",
    "\n",
    "            # On détermine les axes\n",
    "            if lims is not None:\n",
    "                xmin, xmax, ymin, ymax = lims\n",
    "            elif pcs.shape[1] < 30:\n",
    "                xmin, xmax, ymin, ymax = -1, 1, -1, 1\n",
    "            else:\n",
    "                xmin, xmax, ymin, ymax = min(pcs[d1, :]), max(pcs[d1, :]), min(pcs[d2, :]), max(pcs[d2, :])\n",
    "\n",
    "            # On affiche les flèches\n",
    "            if pcs.shape[1] < 30:\n",
    "                plt.quiver(np.zeros(pcs.shape[1]), np.zeros(pcs.shape[1]),\n",
    "                           pcs[d1, :], pcs[d2, :],\n",
    "                           angles='xy', scale_units='xy', scale=1, color=\"grey\")\n",
    "            else:\n",
    "                lines = [[[0, 0], [x, y]] for x, y in pcs[[d1, d2]].T]\n",
    "                ax.add_collection(LineCollection(lines, axes=ax, alpha=.1, color='black'))\n",
    "\n",
    "            # On affiche les labels\n",
    "            if labels is not None:\n",
    "                for i, (x, y) in enumerate(pcs[[d1, d2]].T):\n",
    "                    if x >= xmin and x <= xmax and y >= ymin and y <= ymax:\n",
    "                        plt.text(x, y, labels[i], fontsize='14', ha='center', va='center', rotation=label_rotation,\n",
    "                                 color=\"blue\", alpha=0.5)\n",
    "\n",
    "            # On affiche le cercle\n",
    "            circle = plt.Circle((0, 0), 1, facecolor='none', edgecolor='b')\n",
    "            plt.gca().add_artist(circle)\n",
    "\n",
    "            # On définit les limites\n",
    "            plt.xlim(xmin, xmax)\n",
    "            plt.ylim(ymin, ymax)\n",
    "            \n",
    "\n",
    "\n",
    "            # On affiche le repère dans lequel on se place\n",
    "            plt.plot([-1, 1], [0, 0], color='grey', ls='--')\n",
    "            plt.plot([0, 0], [-1, 1], color='grey', ls='--')\n",
    "\n",
    "            # On nomme les axes\n",
    "            plt.xlabel('F{} ({}%)'.format(d1 + 1, round(100 * pca.explained_variance_ratio_[d1], 1)))\n",
    "            plt.ylabel('F{} ({}%)'.format(d2 + 1, round(100 * pca.explained_variance_ratio_[d2], 1)))\n",
    "\n",
    "            plt.title(\"Cercle des corrélations (F{} et F{})\".format(d1 + 1, d2 + 1))\n",
    "            plt.show()\n",
    "\n",
    "\n",
    "display_circles(['Steps', 'Spent kcal', 'Walk (min)', 'Sport (min)', 'Weigth'])"
   ]
  },
  {
   "cell_type": "code",
   "execution_count": null,
   "metadata": {},
   "outputs": [],
   "source": [
    "shapiro_weight = sc.shapiro(diff_weight(df['Weigth']))\n",
    "print(shapiro_weight)\n",
    "print(acorr_ljungbox(diff_weight(df['Weigth']), return_df=True))"
   ]
  },
  {
   "cell_type": "code",
   "execution_count": null,
   "metadata": {},
   "outputs": [],
   "source": [
    "fig = plt.figure(figsize=(12, 8))\n",
    "ax1 = fig.add_subplot(211)\n",
    "fig = sm.graphics.tsa.plot_acf(diff_weight(df['Weigth']), lags=20, ax=ax1)\n",
    "ax2 = fig.add_subplot(212)\n",
    "fig = sm.graphics.tsa.plot_pacf(diff_weight(df['Weigth']), lags=20, ax=ax2)"
   ]
  },
  {
   "cell_type": "code",
   "execution_count": null,
   "metadata": {},
   "outputs": [],
   "source": [
    "print(adfuller(diff_weight(df['Weigth'])))\n",
    "print(kpss(diff_weight(df['Weigth'])))"
   ]
  },
  {
   "cell_type": "code",
   "execution_count": null,
   "metadata": {},
   "outputs": [],
   "source": [
    "def ch_cluster(data, cluster):\n",
    "    kmeans = KMeans(n_clusters=cluster)\n",
    "    prediction = kmeans.fit_predict(data)\n",
    "    score = metrics.calinski_harabasz_score(data, prediction)\n",
    "    #print('calinski harabsz', score)\n",
    "    return score\n",
    "\n",
    "def db_cluster(data, cluster):\n",
    "    kmeans = KMeans(n_clusters=cluster)\n",
    "    prediction = kmeans.fit_predict(data)\n",
    "    score = metrics.davies_bouldin_score(data, prediction)\n",
    "    #print('davies bouldin', score)\n",
    "    return score\n",
    "\n",
    "def plot_indexes(df):\n",
    "    #calinski harabasz\n",
    "    scores = []\n",
    "    clusters = list(range(2,10))\n",
    "    for cluster in clusters:\n",
    "        scores.append(ch_cluster(df, cluster))\n",
    "    print(\"L'indice de Calinski Harabasz est\", max(scores))\n",
    "    plt.figure()\n",
    "    plt.plot(clusters, scores, linestyle='--', marker='x', color='r');\n",
    "    plt.xlabel('Nombre de clusters');\n",
    "    plt.ylabel('Indice de Calinski-Harabasz');\n",
    "    plt.title('Indice de Calinski-Harabasz en fonction du nombre de clusters')\n",
    "    plt.figure()\n",
    "    #davies bouldin\n",
    "    scores = []\n",
    "    clusters = list(range(2,10))\n",
    "    for cluster in clusters:\n",
    "        scores.append(db_cluster(df, cluster))\n",
    "    print(\"L'indice de Davies Bouldin est\", max(scores))\n",
    "    plt.plot(clusters, scores, linestyle='--', marker='x', color='b');\n",
    "    plt.xlabel('Nombre de clusters');\n",
    "    plt.ylabel('Indice de Davies-Bouldin');\n",
    "    plt.title('Indice de Davies-Bouldin en fonction du nombre de clusters');\n",
    "    #indice de silhouette\n",
    "    pca = PCA(n_components=2)\n",
    "    pca_val = pca.fit_transform(df)\n",
    "    df_pca = pd.DataFrame(data = pca_val, columns = ['PC1', 'PC2'])\n",
    "    kmeans = KMeans(n_clusters=3, n_init=5, max_iter=300, random_state=100).fit(df)\n",
    "    prediction = kmeans.predict(df)\n",
    "    print(\"L'indice de silhouette est\", silhouette_score(df_pca, prediction))\n",
    "\n",
    "\n",
    "def means():\n",
    "    liste=['Weigth', 'Steps', 'Spent kcal', 'Walk (min)', 'Sport (min)'] \n",
    "    for item in liste:\n",
    "        Zs=stats.mean(df[item])+1.96*(stats.stdev(df[item])/math.sqrt(len(df[item])))\n",
    "        Zi=stats.mean(df[item])-1.96*(stats.stdev(df[item])/math.sqrt(len(df[item])))\n",
    "        print('La moyenne de la liste des ', item, ' est ',stats.mean(df[item]))\n",
    "        print('Son intervalle de confiance à 95% est [',Zi, ';',Zs,']' )\n",
    "    dfitem = df['diff_weight'][:-1]\n",
    "    Zs=stats.mean(dfitem)+1.96*(stats.stdev(dfitem)/math.sqrt(len(dfitem)))\n",
    "    Zi=stats.mean(dfitem)-1.96*(stats.stdev(dfitem)/math.sqrt(len(dfitem)))\n",
    "    print('La moyenne de la liste des poids différenciées est ',stats.mean(dfitem))\n",
    "    print('Son intervalle de confiance à 95% est [',Zi, ';',Zs,']' )\n",
    "\n",
    "plot_indexes(df.drop(columns=['Day','Date', 'sleep time', 'Weigth'])[:574])\n",
    "means()"
   ]
  },
  {
   "cell_type": "code",
   "execution_count": null,
   "metadata": {},
   "outputs": [],
   "source": [
    "import pandas as pd\n",
    "import numpy as np\n",
    "import seaborn as sns;\n",
    "from statsmodels.tsa.arima_model import ARIMA\n",
    "import statsmodels.api as sm\n",
    "\n",
    "\n",
    "from matplotlib import pyplot as plt\n",
    "\n",
    "pdread = pd.read_csv('output.csv', sep=';')\n",
    "fig = plt.figure(figsize=(12,8))\n",
    "\n",
    "list_diff = diff_weigth.tolist()\n",
    "\n",
    "def certainValue(type) :\n",
    "    value =[]\n",
    "    if (type ==\"Weigth\") :\n",
    "        for i in range(1, 578):\n",
    "            value.append(pdread[type][i])\n",
    "        return value\n",
    "    if (type == \"Steps\") :\n",
    "        return pdread.loc[pdread['Day'] == 'W'].Steps.apply(lambda x: float(x))\n",
    "\n",
    "def difference(type) :\n",
    "    pdtype = pdread[type]\n",
    "    diff = []\n",
    "    if (type == \"Weigth\") :\n",
    "        for i in range(2, 577):\n",
    "            diff.append(pdtype[i + 1] - pdtype[i])\n",
    "    return diff\n",
    "\n",
    "def ARIMAtest(list, AR, MA):\n",
    "    model = ARIMA(list, order = (AR,1,MA)) #Weight : order = (2,1,1), stepsWednesday : (1,0,1)\n",
    "    results = model.fit()\n",
    "    return results\n",
    "\n",
    "def ACF_PACFfigure(fig, list):\n",
    "    ax1 = fig.add_subplot(211)\n",
    "    fig = sm.graphics.tsa.plot_acf(list, lags=20, ax = ax1)\n",
    "    ax2 = fig.add_subplot(212)\n",
    "    fig = sm.graphics.tsa.plot_pacf(list, lags=20, ax= ax2)\n",
    "    plt.show()\n",
    "\n",
    "def ARIMAresid(ARIMAsummary):\n",
    "    return ARIMAsummary.resid\n",
    "\n",
    "\n",
    "def ARIMAPredict(ARIMAResult, numberDaysPredict):\n",
    "    predict = ARIMAResult.predict(start=80, end=90+numberDaysPredict)\n",
    "    ARIMAResult.plot_predict(dynamic=False, start=80, end= 90+numberDaysPredict)\n",
    "    plt.title(\"Prédiction de la différence du poids\") #Changer le titre\n",
    "    plt.show()\n",
    "    return predict\n",
    "\n",
    "def BoxPierce(list):\n",
    "    print('Résultat de BoxPierce ', sm.stats.diagnostic.acorr_ljungbox(list, return_df=True, lags=1))\n",
    "\n",
    "def predictWeigth():\n",
    "    ACF_PACFfigure(fig, list_diff) #\"On a MA(1), MA(2) et AR(1), AR(2), AR(3) et AR(4)\"\n",
    "    #print(list_diff)\n",
    "    #BoxPierce(certainValue(\"Weigth\"))\n",
    "    x = ARIMAtest(list_diff, 1, 1)\n",
    "    print(x.summary())\n",
    "    print(ARIMAPredict(x, 1))\n",
    "\n",
    "def predictSteps():\n",
    "    ACF_PACFfigure(fig, certainValue(\"Steps\")) # On prend MA(0), AR(0)\n",
    "    print(certainValue(\"Steps\")) #changer la valeur du jour au niveau de la fonction\n",
    "    BoxPierce(certainValue(\"Steps\"))\n",
    "    x = ARIMAtest(certainValue(\"Steps\"), 1,1)\n",
    "    print(x.summary())\n",
    "    print(ARIMAPredict(x,1))\n",
    "\n",
    "def run() :\n",
    "    #predictSteps()\n",
    "    predictWeigth()\n",
    "\n",
    "run()"
   ]
  },
  {
   "cell_type": "code",
   "execution_count": null,
   "metadata": {},
   "outputs": [],
   "source": []
  }
 ],
 "metadata": {
  "kernelspec": {
   "display_name": "Python 3",
   "language": "python",
   "name": "python3"
  },
  "language_info": {
   "codemirror_mode": {
    "name": "ipython",
    "version": 3
   },
   "file_extension": ".py",
   "mimetype": "text/x-python",
   "name": "python",
   "nbconvert_exporter": "python",
   "pygments_lexer": "ipython3",
   "version": "3.8.5"
  }
 },
 "nbformat": 4,
 "nbformat_minor": 4
}
