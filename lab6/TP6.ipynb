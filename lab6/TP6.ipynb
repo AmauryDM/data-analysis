{
 "cells": [
  {
   "cell_type": "code",
   "execution_count": null,
   "metadata": {},
   "outputs": [],
   "source": [
    "import matplotlib.pyplot as plt\n",
    "import numpy as np\n",
    "import pandas as pd\n",
    "from scipy import stats\n",
    "import statsmodels.api as sm\n",
    "from statsmodels.tsa.arima_model import ARIMA\n",
    "from statsmodels.graphics.tsaplots import plot_acf, plot_pacf\n",
    "from statsmodels.tsa.stattools import adfuller, kpss\n",
    "from statsmodels.stats.diagnostic import acorr_ljungbox"
   ]
  },
  {
   "cell_type": "code",
   "execution_count": null,
   "metadata": {},
   "outputs": [],
   "source": [
    "#Exercice A\n",
    "#Question 1\n",
    "mu, sigma, samples = 0, 0.5, 1000\n",
    "x = np.random.normal(mu, sigma, samples)\n",
    "plt.title('Bruit blanc gaussien de 1000 échantillons')\n",
    "plt.xlabel('Temps')\n",
    "plt.ylabel('Amplitude')\n",
    "plt.plot(x)"
   ]
  },
  {
   "cell_type": "code",
   "execution_count": null,
   "metadata": {},
   "outputs": [],
   "source": [
    "#Question 3\n",
    "fig = plt.figure(figsize=(12, 8))\n",
    "ax1 = fig.add_subplot(211)\n",
    "fig = sm.graphics.tsa.plot_acf(x, lags=20, ax=ax1)\n",
    "ax2 = fig.add_subplot(212)\n",
    "fig = sm.graphics.tsa.plot_pacf(x, lags=20, ax=ax2)"
   ]
  },
  {
   "cell_type": "code",
   "execution_count": null,
   "metadata": {},
   "outputs": [],
   "source": [
    "#Question 4\n",
    "adf = adfuller(x)\n",
    "print(adf)"
   ]
  },
  {
   "cell_type": "code",
   "execution_count": null,
   "metadata": {},
   "outputs": [],
   "source": [
    "test_kpss = kpss(x)\n",
    "print(test_kpss)"
   ]
  },
  {
   "cell_type": "code",
   "execution_count": null,
   "metadata": {},
   "outputs": [],
   "source": [
    "#Exercice B.1\n",
    "#Question 1\n",
    "sales = pd.read_csv('sales.csv')\n",
    "print(sales['Date'][:48])"
   ]
  },
  {
   "cell_type": "code",
   "execution_count": null,
   "metadata": {},
   "outputs": [],
   "source": [
    "plt.plot(sales['Date'][:48], sales['Fuel'][:48])\n",
    "plt.plot(sales['Date'][:48], sales['Food'][:48])\n",
    "plt.legend(['Carburant', 'Produits alimentaires'])\n",
    "plt.xlabel('Date')\n",
    "plt.ylabel('Chiffre d\\'affaires')"
   ]
  },
  {
   "cell_type": "code",
   "execution_count": null,
   "metadata": {},
   "outputs": [],
   "source": [
    "shapiro_fuel = stats.shapiro(sales['Fuel'][:48])\n",
    "print(shapiro_fuel)\n",
    "print(acorr_ljungbox(sales['Fuel'][:48], return_df=True))"
   ]
  },
  {
   "cell_type": "code",
   "execution_count": null,
   "metadata": {},
   "outputs": [],
   "source": [
    "shapiro_food = stats.shapiro(sales['Food'][:48])\n",
    "print(shapiro_food)\n",
    "print(acorr_ljungbox(sales['Food'][:48], return_df=True))"
   ]
  },
  {
   "cell_type": "code",
   "execution_count": null,
   "metadata": {},
   "outputs": [],
   "source": [
    "fig = plt.figure(figsize=(12, 8))\n",
    "ax1 = fig.add_subplot(211)\n",
    "fig = sm.graphics.tsa.plot_acf(sales['Fuel'][:48], lags=20, ax=ax1)\n",
    "ax2 = fig.add_subplot(212)\n",
    "fig = sm.graphics.tsa.plot_pacf(sales['Fuel'][:48], lags=20, ax=ax2)"
   ]
  },
  {
   "cell_type": "code",
   "execution_count": null,
   "metadata": {},
   "outputs": [],
   "source": [
    "print(adfuller(sales['Fuel'][:48]))\n",
    "print(kpss(sales['Fuel'][:48]))"
   ]
  },
  {
   "cell_type": "code",
   "execution_count": null,
   "metadata": {},
   "outputs": [],
   "source": [
    "#Exercice B.2\n",
    "#Question 1\n",
    "diff_fuel = np.array([])\n",
    "for i in range(1, 49, 1):\n",
    "    diff = sales['Fuel'][i] - sales['Fuel'][i-1]\n",
    "    diff_fuel = np.append(diff_fuel, diff)"
   ]
  },
  {
   "cell_type": "code",
   "execution_count": null,
   "metadata": {},
   "outputs": [],
   "source": [
    "plt.plot(sales['Date'][:47], diff_fuel)\n",
    "plt.title('Différenciation de la série du carburant')\n",
    "plt.xlabel('Date')\n",
    "plt.ylabel('Différence')"
   ]
  },
  {
   "cell_type": "code",
   "execution_count": null,
   "metadata": {},
   "outputs": [],
   "source": [
    "fig = plt.figure(figsize=(12, 8))\n",
    "ax1 = fig.add_subplot(211)\n",
    "fig = sm.graphics.tsa.plot_acf(diff_fuel, lags=20, ax=ax1)\n",
    "ax2 = fig.add_subplot(212)\n",
    "fig = sm.graphics.tsa.plot_pacf(diff_fuel, lags=20, ax=ax2)"
   ]
  },
  {
   "cell_type": "code",
   "execution_count": null,
   "metadata": {},
   "outputs": [],
   "source": [
    "print(adfuller(diff_fuel))\n",
    "print(kpss(diff_fuel))"
   ]
  },
  {
   "cell_type": "code",
   "execution_count": null,
   "metadata": {},
   "outputs": [],
   "source": [
    "#Exercice C\n",
    "#Question 1\n",
    "x_train_food = np.array([])\n",
    "for i in range(1, 49, 1):\n",
    "    diff = sales['Food'][i] - sales['Food'][i-1]\n",
    "    x_train_food = np.append(x_train_food, diff)"
   ]
  },
  {
   "cell_type": "code",
   "execution_count": null,
   "metadata": {},
   "outputs": [],
   "source": [
    "x_train_fuel = np.array([])\n",
    "for i in range(1, 49, 1):\n",
    "    diff = sales['Fuel'][i] - sales['Fuel'][i-1]\n",
    "    diff_fuel = np.append(x_train_fuel, diff)"
   ]
  },
  {
   "cell_type": "code",
   "execution_count": null,
   "metadata": {},
   "outputs": [],
   "source": [
    "x_test_food = np.array([])\n",
    "for i in range(48, 50, 1):\n",
    "    diff = sales['Food'][i] - sales['Food'][i-1]\n",
    "    x_test_diff = np.append(x_test_diff, diff)\n",
    "print(len(x_test_food))"
   ]
  },
  {
   "cell_type": "code",
   "execution_count": null,
   "metadata": {},
   "outputs": [],
   "source": [
    "x_test_fuel = np.array([])\n",
    "for i in range(48, 50, 1):\n",
    "    diff = sales['Fuel'][i] - sales['Fuel'][i-1]\n",
    "    x_test_diff = np.append(x_test_diff, diff)"
   ]
  },
  {
   "cell_type": "code",
   "execution_count": null,
   "metadata": {},
   "outputs": [],
   "source": [
    "#Question 2\n",
    "fig = plt.figure(figsize=(12, 8))\n",
    "ax1 = fig.add_subplot(211)\n",
    "fig = sm.graphics.tsa.plot_acf(x_train_food, lags=20, ax=ax1)\n",
    "ax2 = fig.add_subplot(212)\n",
    "fig = sm.graphics.tsa.plot_pacf(x_train_food, lags=20, ax=ax2)"
   ]
  },
  {
   "cell_type": "code",
   "execution_count": null,
   "metadata": {},
   "outputs": [],
   "source": [
    "fig = plt.figure(figsize=(12, 8))\n",
    "ax1 = fig.add_subplot(211)\n",
    "fig = sm.graphics.tsa.plot_acf(x_train_diff, lags=20, ax=ax1)\n",
    "ax2 = fig.add_subplot(212)\n",
    "fig = sm.graphics.tsa.plot_pacf(x_train_diff, lags=20, ax=ax2)"
   ]
  },
  {
   "cell_type": "code",
   "execution_count": null,
   "metadata": {},
   "outputs": [],
   "source": [
    "#Question 3\n",
    "model = ARIMA(x_train_food, order=(1,1,1)).fit()\n",
    "print(ARIMA(x_test_food, order=(1,1,1)).fit().summary())"
   ]
  },
  {
   "cell_type": "code",
   "execution_count": null,
   "metadata": {},
   "outputs": [],
   "source": [
    "#Question 4\n",
    "resid = ARIMA(x_train_food, order=(1,1,1)).fit().resid\n",
    "print(resid)\n",
    "print(stats.shapiro(resid))\n",
    "print(kpss(resid))\n",
    "print(adfuller(resid))\n",
    "print((acorr_ljungbox(resid, return_df=True)))"
   ]
  },
  {
   "cell_type": "code",
   "execution_count": null,
   "metadata": {},
   "outputs": [],
   "source": [
    "#Question 7\n",
    "x_train_food = np.append(x_train_food, ARIMA(x_train_food, order=(1,1,1)).fit().forecast())"
   ]
  },
  {
   "cell_type": "code",
   "execution_count": null,
   "metadata": {},
   "outputs": [],
   "source": [
    "model = ARIMA(x_train_food, order=(1,1,1)).fit()"
   ]
  },
  {
   "cell_type": "code",
   "execution_count": null,
   "metadata": {},
   "outputs": [],
   "source": [
    "x_train_food = np.append(x_train_food, ARIMA(x_train_food, order=(1,1,1)).fit().forecast())"
   ]
  },
  {
   "cell_type": "code",
   "execution_count": null,
   "metadata": {},
   "outputs": [],
   "source": [
    "plt.plot(sales['Dates'][:48], x_train_food[:48], 'crimson', label=\"Train\")\n",
    "plt.plot(sales['Dates'][47:50], x_train_food[47:50], 'navy', label=\"Prédictions\")\n",
    "plt.plot(sales['Dates'][47:50], x_test_food, 'steelblue', label=\"Test\")\n",
    "plt.title(\"Comparaison prédictions-valeurs attendues\")\n",
    "plt.legend()\n",
    "plt.show()"
   ]
  },
  {
   "cell_type": "code",
   "execution_count": null,
   "metadata": {},
   "outputs": [],
   "source": [
    "mse = np.sum( (x_train_food[48:50]- [1.74, 12.21])**2 ) / 2\n",
    "print('mse: ', np.sqrt(mse))"
   ]
  }
 ],
 "metadata": {
  "kernelspec": {
   "display_name": "Python 3",
   "language": "python",
   "name": "python3"
  },
  "language_info": {
   "codemirror_mode": {
    "name": "ipython",
    "version": 3
   },
   "file_extension": ".py",
   "mimetype": "text/x-python",
   "name": "python",
   "nbconvert_exporter": "python",
   "pygments_lexer": "ipython3",
   "version": "3.8.5"
  }
 },
 "nbformat": 4,
 "nbformat_minor": 4
}
