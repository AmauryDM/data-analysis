{
 "cells": [
  {
   "cell_type": "code",
   "execution_count": null,
   "metadata": {},
   "outputs": [],
   "source": [
    "import pandas as pd\n",
    "import matplotlib.patches as mpatches\n",
    "from sklearn.decomposition import PCA\n",
    "from sklearn.cluster import KMeans, SpectralClustering\n",
    "from sklearn.metrics import confusion_matrix\n",
    "from sklearn.metrics import silhouette_score\n",
    "from sklearn.metrics import calinski_harabasz_score\n",
    "from sklearn.metrics import davies_bouldin_score\n",
    "from sklearn.mixture import GaussianMixture\n",
    "\n",
    "import matplotlib.pyplot as plt\n",
    "from scipy.cluster.hierarchy import dendrogram, linkage, fcluster\n",
    "from scipy.cluster.hierarchy import cophenet, inconsistent, maxRstat\n",
    "from scipy.spatial.distance import pdist\n",
    "import numpy as np"
   ]
  },
  {
   "cell_type": "code",
   "execution_count": null,
   "metadata": {},
   "outputs": [],
   "source": [
    "#Exo A\n",
    "#Question 1\n",
    "iris = pd.read_csv('iris.csv')\n",
    "print(iris)"
   ]
  },
  {
   "cell_type": "code",
   "execution_count": null,
   "metadata": {},
   "outputs": [],
   "source": [
    "#Question 2\n",
    "iris_class = iris['Class']\n",
    "iris = iris.drop(columns=['Class'])"
   ]
  },
  {
   "cell_type": "code",
   "execution_count": null,
   "metadata": {},
   "outputs": [],
   "source": [
    "#Question 3\n",
    "pca = PCA(n_components=2)\n",
    "PCA_val = pca.fit_transform(iris)\n",
    "df_iris_PCA = pd.DataFrame(data=PCA_val, columns=['PC1', 'PC2'])\n",
    "df_iris_PCA_class = pd.concat([df_iris_PCA, iris_class], axis=1)\n",
    "print(df_iris_PCA_class)"
   ]
  },
  {
   "cell_type": "code",
   "execution_count": null,
   "metadata": {},
   "outputs": [],
   "source": [
    "#Question 4\n",
    "def plotColor4(i):\n",
    "    if df_iris_PCA_class['Class'][i] == 'setosa':\n",
    "        return 'red'\n",
    "    if df_iris_PCA_class['Class'][i] == 'versicolor':\n",
    "        return 'green'\n",
    "    if df_iris_PCA_class['Class'][i] == 'virginica':\n",
    "        return 'blue'"
   ]
  },
  {
   "cell_type": "code",
   "execution_count": null,
   "metadata": {},
   "outputs": [],
   "source": [
    "for i in range(150):\n",
    "    plt.scatter(df_iris_PCA_class['PC1'][i], df_iris_PCA_class['PC2'][i], color=plotColor4(i))\n",
    "    \n",
    "setosa_label = mpatches.Patch(color='red', label='Setosa')\n",
    "versicolor_label = mpatches.Patch(color='green', label='Versicolor')\n",
    "virginica_label = mpatches.Patch(color='blue', label='Virginica')\n",
    "plt.legend(handles=[setosa_label, versicolor_label, virginica_label])\n",
    "plt.xlabel('Composante principale 1')\n",
    "plt.ylabel('Composante principale 2')\n",
    "plt.title('ACP à deux composantes')\n",
    "plt.show()"
   ]
  },
  {
   "cell_type": "code",
   "execution_count": null,
   "metadata": {},
   "outputs": [],
   "source": [
    "#Question 5\n",
    "kmeans = KMeans(n_clusters=3, n_init=5, max_iter=300, random_state=0).fit(iris)\n",
    "kmeans.score(iris)\n",
    "prediction = kmeans.predict(iris)"
   ]
  },
  {
   "cell_type": "code",
   "execution_count": null,
   "metadata": {},
   "outputs": [],
   "source": [
    "def plotColor5(i):\n",
    "    if prediction[i] == 1:\n",
    "        return 'red'\n",
    "    if prediction[i] == 2:\n",
    "        return 'green'\n",
    "    if prediction[i] == 0:\n",
    "        return 'blue'"
   ]
  },
  {
   "cell_type": "code",
   "execution_count": null,
   "metadata": {},
   "outputs": [],
   "source": [
    "for i in range(150):\n",
    "    plt.scatter(df_iris_PCA_class['PC1'][i], df_iris_PCA_class['PC2'][i], color=plotColor5(i))\n",
    "    \n",
    "cluster1 = mpatches.Patch(color='red', label='Cluster 1')\n",
    "cluster2 = mpatches.Patch(color='green', label='Cluster 2')\n",
    "cluster3 = mpatches.Patch(color='blue', label='Cluster 3')\n",
    "plt.legend(handles=[cluster1, cluster2, cluster3])\n",
    "plt.xlabel('Composante principale 1')\n",
    "plt.ylabel('Composante principale 2')\n",
    "plt.title('ACP à deux composantes après clustering par KMeans random_state=100')\n",
    "plt.show()"
   ]
  },
  {
   "cell_type": "code",
   "execution_count": null,
   "metadata": {},
   "outputs": [],
   "source": [
    "#Question 7\n",
    "prediction_class=[]\n",
    "true_class=[]\n",
    "\n",
    "for i in range(150):\n",
    "    true_class.append(iris_class[i])\n",
    "\n",
    "for i in range(150):\n",
    "    if prediction[i] == 1:\n",
    "        prediction_class.append('setosa')\n",
    "    if prediction[i] == 2:\n",
    "        prediction_class.append('versicolor')\n",
    "    if prediction[i] == 0:\n",
    "        prediction_class.append('virginica')\n",
    "\n",
    "confusion = confusion_matrix(true_class, prediction_class)\n",
    "score = silhouette_score(df_iris_PCA, prediction_class)\n",
    "print(confusion)\n",
    "print(score)"
   ]
  },
  {
   "cell_type": "code",
   "execution_count": null,
   "metadata": {},
   "outputs": [],
   "source": [
    "gaussian = GaussianMixture(n_components=3).fit(iris)\n",
    "gaussian.score(iris)\n",
    "prediction = gaussian.predict(iris)"
   ]
  },
  {
   "cell_type": "code",
   "execution_count": null,
   "metadata": {},
   "outputs": [],
   "source": [
    "prediction_gaussian=[]\n",
    "true_gaussian=[]\n",
    "\n",
    "for i in range(150):\n",
    "    true_gaussian.append(iris_class[i])\n",
    "\n",
    "for i in range(150):\n",
    "    if prediction[i] == 1:\n",
    "        prediction_gaussian.append('setosa')\n",
    "    if prediction[i] == 2:\n",
    "        prediction_gaussian.append('versicolor')\n",
    "    if prediction[i] == 0:\n",
    "        prediction_gaussian.append('virginica')\n",
    "\n",
    "confusion = confusion_matrix(true_gaussian, prediction_gaussian)\n",
    "score = silhouette_score(df_iris_PCA, prediction_gaussian)\n",
    "print(confusion)\n",
    "print(score)"
   ]
  },
  {
   "cell_type": "code",
   "execution_count": null,
   "metadata": {},
   "outputs": [],
   "source": [
    "spectral = SpectralClustering(n_clusters=3, n_init=5, random_state=0).fit(iris)\n",
    "prediction = spectral.fit_predict(iris)"
   ]
  },
  {
   "cell_type": "code",
   "execution_count": null,
   "metadata": {},
   "outputs": [],
   "source": [
    "prediction_spectral=[]\n",
    "true_spectral=[]\n",
    "\n",
    "for i in range(150):\n",
    "    true_spectral.append(iris_class[i])\n",
    "\n",
    "for i in range(150):\n",
    "    if prediction[i] == 1:\n",
    "        prediction_spectral.append('setosa')\n",
    "    if prediction[i] == 0:\n",
    "        prediction_spectral.append('versicolor')\n",
    "    if prediction[i] == 2:\n",
    "        prediction_spectral.append('virginica')\n",
    "\n",
    "confusion = confusion_matrix(true_spectral, prediction_spectral)\n",
    "score = silhouette_score(df_iris_PCA, prediction_spectral)\n",
    "print(confusion)\n",
    "print(score)"
   ]
  },
  {
   "cell_type": "code",
   "execution_count": null,
   "metadata": {},
   "outputs": [],
   "source": [
    "#Exo B\n",
    "#Question 2\n",
    "a = np.random.multivariate_normal([10, 0], [[3, 1], [1, 4]], size=[100,])\n",
    "b = np.random.multivariate_normal([0, 20], [[3, 1], [1, 4]], size=[50,])\n",
    "X = np.concatenate((a, b),)\n",
    "plt.scatter(X[:, 0], X[:, 1])\n",
    "plt.title('My data distribution')\n",
    "plt.show()"
   ]
  },
  {
   "cell_type": "code",
   "execution_count": null,
   "metadata": {},
   "outputs": [],
   "source": [
    "#Question 3\n",
    "Z=linkage(X, 'average', optimal_ordering = True)\n",
    "c, coph_dists = cophenet(Z, pdist(X))\n",
    "print('Cophenetic Correlation: %1.2f'%c)\n",
    "\n",
    "plt.figure(figsize=(25, 10))\n",
    "plt.title('Hierarchical Clustering Denrogram : Average')\n",
    "plt.xlabel('sample clusters')\n",
    "plt.ylabel('distance')\n",
    "dendrogram(Z, leaf_rotation = 90., leaf_font_size=8.,)\n",
    "plt.show()\n",
    "R=inconsistent(Z)"
   ]
  },
  {
   "cell_type": "code",
   "execution_count": null,
   "metadata": {},
   "outputs": [],
   "source": [
    "#Question 4\n",
    "print(Z)"
   ]
  },
  {
   "cell_type": "code",
   "execution_count": null,
   "metadata": {},
   "outputs": [],
   "source": [
    "#Question 6\n",
    "plt.title('Hierarchical Clustering Dendrogram truncated')\n",
    "plt.xlabel('sample index')\n",
    "plt.ylabel('distance')\n",
    "dendrogram(\n",
    "    Z,\n",
    "    truncate_mode='lastp', #Truncate the p-little clusters\n",
    "    p=12, #to explain\n",
    "    show_leaf_counts = False,\n",
    "    leaf_rotation=90.,\n",
    "    leaf_font_size = 12.,\n",
    "    show_contracted=True,\n",
    "    )\n",
    "plt.show()"
   ]
  },
  {
   "cell_type": "code",
   "execution_count": null,
   "metadata": {},
   "outputs": [],
   "source": [
    "#Question 7\n",
    "max_d = 14\n",
    "clusters = fcluster(Z, max_d, criterion='distance')\n",
    "plt.figure(figsize=(10, 8))\n",
    "plt.scatter(X[:, 0], X[:, 1], c=clusters, cmap='prism')\n",
    "plt.show"
   ]
  },
  {
   "cell_type": "code",
   "execution_count": null,
   "metadata": {},
   "outputs": [],
   "source": [
    "k = 4\n",
    "clusters = fcluster(Z, k, criterion='maxclust')\n",
    "plt.figure(figsize=(10, 8))\n",
    "plt.scatter(X[:, 0], X[:, 1], c=clusters, cmap='prism')\n",
    "plt.show"
   ]
  },
  {
   "cell_type": "code",
   "execution_count": null,
   "metadata": {},
   "outputs": [],
   "source": [
    "#Exo C\n",
    "wdbc = pd.read_csv('wdbc.data', header=None)\n",
    "print(wdbc)"
   ]
  },
  {
   "cell_type": "code",
   "execution_count": null,
   "metadata": {},
   "outputs": [],
   "source": [
    "wdbc = wdbc.drop(columns=[0])\n",
    "wdbc_class = wdbc[1]\n",
    "wdbc = wdbc.drop(columns=[1])"
   ]
  },
  {
   "cell_type": "code",
   "execution_count": null,
   "metadata": {},
   "outputs": [],
   "source": [
    "pca = PCA(n_components=2)\n",
    "PCA_val = pca.fit_transform(wdbc)\n",
    "df_wdbc_PCA = pd.DataFrame(data=PCA_val, columns=['PC1', 'PC2'])\n",
    "df_wdbc_PCA_class = pd.concat([df_wdbc_PCA, wdbc_class], axis=1)\n",
    "print(df_wdbc_PCA_class)"
   ]
  },
  {
   "cell_type": "code",
   "execution_count": null,
   "metadata": {},
   "outputs": [],
   "source": [
    "def plotColorC1(i):\n",
    "    if df_wdbc_PCA_class[1][i] == 'M':\n",
    "        return 'red'\n",
    "    if df_wdbc_PCA_class[1][i] == 'B':\n",
    "        return 'blue'"
   ]
  },
  {
   "cell_type": "code",
   "execution_count": null,
   "metadata": {},
   "outputs": [],
   "source": [
    "for i in range(569):\n",
    "    plt.scatter(df_wdbc_PCA_class['PC1'][i], df_wdbc_PCA_class['PC2'][i], color=plotColorC1(i))\n",
    "    \n",
    "m = mpatches.Patch(color='red', label='Malignant')\n",
    "b = mpatches.Patch(color='blue', label='Benign')\n",
    "plt.legend(handles=[m, b])\n",
    "plt.xlabel('Composante principale 1')\n",
    "plt.ylabel('Composante principale 2')\n",
    "plt.title('ACP à deux composantes')\n",
    "plt.show()"
   ]
  },
  {
   "cell_type": "code",
   "execution_count": null,
   "metadata": {},
   "outputs": [],
   "source": [
    "kmeans = KMeans(n_clusters=2, n_init=5, max_iter=300, random_state=0).fit(wdbc)\n",
    "kmeans.score(wdbc)\n",
    "prediction = kmeans.predict(wdbc)"
   ]
  },
  {
   "cell_type": "code",
   "execution_count": null,
   "metadata": {},
   "outputs": [],
   "source": [
    "def plotColorC2(i):\n",
    "    if prediction[i] == 1:\n",
    "        return 'blue'\n",
    "    if prediction[i] == 0:\n",
    "        return 'red'"
   ]
  },
  {
   "cell_type": "code",
   "execution_count": null,
   "metadata": {},
   "outputs": [],
   "source": [
    "for i in range(569):\n",
    "    plt.scatter(df_wdbc_PCA_class['PC1'][i], df_wdbc_PCA_class['PC2'][i], color=plotColorC2(i))\n",
    "    \n",
    "m = mpatches.Patch(color='red', label='Cluster 1')\n",
    "b = mpatches.Patch(color='blue', label='Cluster 2')\n",
    "plt.legend(handles=[m, b])\n",
    "plt.xlabel('Composante principale 1')\n",
    "plt.ylabel('Composante principale 2')\n",
    "plt.title('ACP à deux composantes après clustering par KMeans')\n",
    "plt.show()"
   ]
  },
  {
   "cell_type": "code",
   "execution_count": null,
   "metadata": {},
   "outputs": [],
   "source": [
    "prediction_class=[]\n",
    "true_class=[]\n",
    "\n",
    "for i in range(569):\n",
    "    true_class.append(wdbc_class[i])\n",
    "\n",
    "for i in range(569):\n",
    "    if prediction[i] == 1:\n",
    "        prediction_class.append('B')\n",
    "    if prediction[i] == 0:\n",
    "        prediction_class.append('M')\n",
    "\n",
    "confusion = confusion_matrix(true_class, prediction_class)\n",
    "score = silhouette_score(df_wdbc_PCA, prediction_class)\n",
    "print(confusion)\n",
    "print(score)"
   ]
  },
  {
   "cell_type": "code",
   "execution_count": null,
   "metadata": {},
   "outputs": [],
   "source": [
    "gaussian = GaussianMixture(n_components=2).fit(wdbc)\n",
    "gaussian.score(wdbc)\n",
    "prediction = gaussian.predict(wdbc)"
   ]
  },
  {
   "cell_type": "code",
   "execution_count": null,
   "metadata": {},
   "outputs": [],
   "source": [
    "def plotColorC3(i):\n",
    "    if prediction[i] == 1:\n",
    "        return 'red'\n",
    "    if prediction[i] == 0:\n",
    "        return 'blue'"
   ]
  },
  {
   "cell_type": "code",
   "execution_count": null,
   "metadata": {},
   "outputs": [],
   "source": [
    "for i in range(569):\n",
    "    plt.scatter(df_wdbc_PCA_class['PC1'][i], df_wdbc_PCA_class['PC2'][i], color=plotColorC3(i))\n",
    "    \n",
    "m = mpatches.Patch(color='red', label='Cluster 1')\n",
    "b = mpatches.Patch(color='blue', label='Cluster 2')\n",
    "plt.legend(handles=[m, b])\n",
    "plt.xlabel('Composante principale 1')\n",
    "plt.ylabel('Composante principale 2')\n",
    "plt.title('ACP à deux composantes après clustering par Gaussian mixture')\n",
    "plt.show()"
   ]
  },
  {
   "cell_type": "code",
   "execution_count": null,
   "metadata": {},
   "outputs": [],
   "source": [
    "prediction_gaussian=[]\n",
    "true_gaussian=[]\n",
    "\n",
    "for i in range(569):\n",
    "    true_gaussian.append(wdbc_class[i])\n",
    "\n",
    "for i in range(569):\n",
    "    if prediction[i] == 1:\n",
    "        prediction_gaussian.append('B')\n",
    "    if prediction[i] == 0:\n",
    "        prediction_gaussian.append('M')\n",
    "\n",
    "confusion = confusion_matrix(true_gaussian, prediction_gaussian)\n",
    "score = silhouette_score(df_wdbc_PCA, prediction_gaussian)\n",
    "print(confusion)\n",
    "print(score)"
   ]
  },
  {
   "cell_type": "code",
   "execution_count": null,
   "metadata": {},
   "outputs": [],
   "source": [
    "#Exo D\n",
    "#Question 1\n",
    "exo4 = pd.read_csv('exo4_atm_extr.csv', sep=';')\n",
    "print(exo4)"
   ]
  },
  {
   "cell_type": "code",
   "execution_count": null,
   "metadata": {},
   "outputs": [],
   "source": [
    "exo4_type = exo4['Type']\n",
    "exo4 = exo4.drop(columns=['Type'])"
   ]
  },
  {
   "cell_type": "code",
   "execution_count": null,
   "metadata": {},
   "outputs": [],
   "source": [
    "print('Indice de Calinski-Harabasz : ', calinski_harabasz_score(exo4, exo4_type))\n",
    "print('Indice de Davies-Bouldin    : ', davies_bouldin_score(exo4, exo4_type))"
   ]
  },
  {
   "cell_type": "code",
   "execution_count": null,
   "metadata": {},
   "outputs": [],
   "source": [
    "def ch_cluster(data, cluster):\n",
    "    kmeans = KMeans(n_clusters=cluster)\n",
    "    prediction = kmeans.fit_predict(data)\n",
    "    score = calinski_harabasz_score(data, prediction)\n",
    "    return score\n",
    "\n",
    "scores = []\n",
    "clusters = list(range(2,10))\n",
    "for cluster in clusters:\n",
    "    scores.append(ch_cluster(exo4, cluster))\n",
    "    \n",
    "plt.plot(clusters, scores, linestyle='--', marker='x', color='r');\n",
    "plt.xlabel('Nombre de clusters');\n",
    "plt.ylabel('Indice de Calinski-Harabasz');\n",
    "plt.title('Indice de Calinski-Harabasz en fonction du nombre de clusters');"
   ]
  },
  {
   "cell_type": "code",
   "execution_count": null,
   "metadata": {},
   "outputs": [],
   "source": [
    "def db_cluster(data, cluster):\n",
    "    kmeans = KMeans(n_clusters=cluster)\n",
    "    prediction = kmeans.fit_predict(data)\n",
    "    score = davies_bouldin_score(data, prediction)\n",
    "    return score\n",
    "\n",
    "scores = []\n",
    "clusters = list(range(2,10))\n",
    "for cluster in clusters:\n",
    "    scores.append(db_cluster(exo4, cluster))\n",
    "    \n",
    "plt.plot(clusters, scores, linestyle='--', marker='x', color='b');\n",
    "plt.xlabel('Nombre de clusters');\n",
    "plt.ylabel('Indice de Davies-Bouldin');\n",
    "plt.title('Indice de Davies-Bouldin en fonction du nombre de clusters');"
   ]
  },
  {
   "cell_type": "code",
   "execution_count": null,
   "metadata": {},
   "outputs": [],
   "source": [
    "#Question 4\n",
    "pca = PCA(n_components=2)\n",
    "PCA_val = pca.fit_transform(exo4)\n",
    "df_exo4_PCA = pd.DataFrame(data=PCA_val, columns=['PC1', 'PC2'])\n",
    "df_exo4_PCA_class = pd.concat([df_exo4_PCA, exo4_type], axis=1)\n",
    "\n",
    "kmeans = KMeans(n_clusters=4).fit(exo4)\n",
    "kmeans.score(exo4)\n",
    "prediction = kmeans.predict(exo4)"
   ]
  },
  {
   "cell_type": "code",
   "execution_count": null,
   "metadata": {},
   "outputs": [],
   "source": [
    "def plotColorD(i):\n",
    "    if prediction[i] == 0:\n",
    "        return 'navy'\n",
    "    if prediction[i] == 1:\n",
    "        return 'tomato'\n",
    "    if prediction[i] == 2:\n",
    "        return 'chartreuse'\n",
    "    if prediction[i] == 3:\n",
    "        return 'steelblue'"
   ]
  },
  {
   "cell_type": "code",
   "execution_count": null,
   "metadata": {},
   "outputs": [],
   "source": [
    "for i in range(1000):\n",
    "    plt.scatter(df_exo4_PCA_class['PC1'][i], df_exo4_PCA_class['PC2'][i], color=plotColorD(i))\n",
    "\n",
    "cluster1 = mpatches.Patch(color='navy', label='Cluster 1')\n",
    "cluster2 = mpatches.Patch(color='tomato', label='Cluster 2')\n",
    "cluster3 = mpatches.Patch(color='chartreuse', label='Cluster 3')\n",
    "cluster4 = mpatches.Patch(color='steelblue', label='Cluster 4')\n",
    "plt.legend(handles=[cluster1, cluster2, cluster3, cluster4])\n",
    "plt.xlabel('Composante principale 1')\n",
    "plt.ylabel('Composante principale 2')\n",
    "plt.title('ACP à deux composantes après clustering par KMeans à 4 clusters')\n",
    "plt.show()"
   ]
  },
  {
   "cell_type": "code",
   "execution_count": null,
   "metadata": {},
   "outputs": [],
   "source": [
    "prediction_class=[]\n",
    "true_class=[]\n",
    "\n",
    "for i in range(1000):\n",
    "    true_class.append(exo4_type[i])\n",
    "\n",
    "for i in range(1000):\n",
    "    if prediction[i] == 0:\n",
    "        prediction_class.append('g')\n",
    "    if prediction[i] == 1:\n",
    "        prediction_class.append('r')\n",
    "    if prediction[i] == 2:\n",
    "        prediction_class.append('d')\n",
    "    if prediction[i] == 3:\n",
    "        prediction_class.append('i')\n",
    "\n",
    "confusion = confusion_matrix(true_class, prediction_class)\n",
    "score = silhouette_score(df_exo4_PCA, prediction_class)\n",
    "print(confusion)\n",
    "print(score)"
   ]
  },
  {
   "cell_type": "code",
   "execution_count": null,
   "metadata": {},
   "outputs": [],
   "source": []
  }
 ],
 "metadata": {
  "kernelspec": {
   "display_name": "Python 3",
   "language": "python",
   "name": "python3"
  },
  "language_info": {
   "codemirror_mode": {
    "name": "ipython",
    "version": 3
   },
   "file_extension": ".py",
   "mimetype": "text/x-python",
   "name": "python",
   "nbconvert_exporter": "python",
   "pygments_lexer": "ipython3",
   "version": "3.8.5"
  }
 },
 "nbformat": 4,
 "nbformat_minor": 4
}
